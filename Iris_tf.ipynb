{
 "cells": [
  {
   "cell_type": "code",
   "execution_count": 1,
   "metadata": {},
   "outputs": [],
   "source": [
    "# Dependencies\n",
    "import tensorflow as tf\n",
    "import pandas as pd\n",
    "import numpy as np"
   ]
  },
  {
   "cell_type": "code",
   "execution_count": 2,
   "metadata": {},
   "outputs": [],
   "source": [
    "# Make results reproducible\n",
    "seed = 1234\n",
    "np.random.seed(seed)\n",
    "tf.set_random_seed(seed)"
   ]
  },
  {
   "cell_type": "code",
   "execution_count": 3,
   "metadata": {},
   "outputs": [],
   "source": [
    "# Loading the dataset\n",
    "dataset = pd.read_csv('Iris_Dataset.csv')\n",
    "dataset = pd.get_dummies(dataset, columns=['Species']) # One Hot Encoding\n",
    "values = list(dataset.columns.values)"
   ]
  },
  {
   "cell_type": "code",
   "execution_count": 4,
   "metadata": {},
   "outputs": [],
   "source": [
    "y = dataset[values[-3:]]\n",
    "y = np.array(y, dtype='float32')\n",
    "X = dataset[values[1:-3]]\n",
    "X = np.array(X, dtype='float32')"
   ]
  },
  {
   "cell_type": "code",
   "execution_count": 5,
   "metadata": {},
   "outputs": [],
   "source": [
    "# Shuffle Data\n",
    "indices = np.random.choice(len(X), len(X), replace=False)\n",
    "X_values = X[indices]\n",
    "y_values = y[indices]"
   ]
  },
  {
   "cell_type": "code",
   "execution_count": 6,
   "metadata": {},
   "outputs": [],
   "source": [
    "# Creating a Train and a Test Dataset\n",
    "test_size = 10\n",
    "X_test = X_values[-test_size:]\n",
    "X_train = X_values[:-test_size]\n",
    "y_test = y_values[-test_size:]\n",
    "y_train = y_values[:-test_size]"
   ]
  },
  {
   "cell_type": "code",
   "execution_count": 7,
   "metadata": {},
   "outputs": [],
   "source": [
    "# Session\n",
    "sess = tf.Session()\n",
    "\n",
    "# Interval / Epochs\n",
    "interval = 50\n",
    "epoch = 500"
   ]
  },
  {
   "cell_type": "code",
   "execution_count": 8,
   "metadata": {},
   "outputs": [],
   "source": [
    "# Initialize placeholders\n",
    "X_data = tf.placeholder(shape=[None, 4], dtype=tf.float32)\n",
    "y_target = tf.placeholder(shape=[None, 3], dtype=tf.float32)"
   ]
  },
  {
   "cell_type": "code",
   "execution_count": 9,
   "metadata": {},
   "outputs": [],
   "source": [
    "# Input neurons : 4\n",
    "# Hidden neurons : 8\n",
    "# Output neurons : 3\n",
    "hidden_layer_nodes = 8"
   ]
  },
  {
   "cell_type": "code",
   "execution_count": 10,
   "metadata": {},
   "outputs": [],
   "source": [
    "# Create variables for Neural Network layers\n",
    "w1 = tf.Variable(tf.random_normal(shape=[4,hidden_layer_nodes])) # Inputs -> Hidden Layer\n",
    "b1 = tf.Variable(tf.random_normal(shape=[hidden_layer_nodes]))   # First Bias\n",
    "w2 = tf.Variable(tf.random_normal(shape=[hidden_layer_nodes,3])) # Hidden layer -> Outputs\n",
    "b2 = tf.Variable(tf.random_normal(shape=[3]))   # Second Bias\n"
   ]
  },
  {
   "cell_type": "code",
   "execution_count": 11,
   "metadata": {},
   "outputs": [],
   "source": [
    "# Operations\n",
    "hidden_output = tf.nn.relu(tf.add(tf.matmul(X_data, w1), b1))\n",
    "final_output = tf.nn.softmax(tf.add(tf.matmul(hidden_output, w2), b2))"
   ]
  },
  {
   "cell_type": "code",
   "execution_count": 12,
   "metadata": {},
   "outputs": [],
   "source": [
    "# Cost Function\n",
    "loss = tf.reduce_mean(-tf.reduce_sum(y_target * tf.log(final_output), axis=0))"
   ]
  },
  {
   "cell_type": "code",
   "execution_count": 13,
   "metadata": {},
   "outputs": [],
   "source": [
    "# Optimizer\n",
    "optimizer = tf.train.GradientDescentOptimizer(learning_rate=0.001).minimize(loss)"
   ]
  },
  {
   "cell_type": "code",
   "execution_count": 14,
   "metadata": {},
   "outputs": [],
   "source": [
    "# Initialize variables\n",
    "init = tf.global_variables_initializer()\n",
    "sess.run(init)"
   ]
  },
  {
   "cell_type": "code",
   "execution_count": 15,
   "metadata": {},
   "outputs": [
    {
     "name": "stdout",
     "output_type": "stream",
     "text": [
      "Training the model...\n",
      "Epoch 50 | Loss: 26.049301\n",
      "Epoch 100 | Loss: 13.553825\n",
      "Epoch 150 | Loss: 9.704758\n",
      "Epoch 200 | Loss: 7.4781976\n",
      "Epoch 250 | Loss: 6.327774\n",
      "Epoch 300 | Loss: 5.5770926\n",
      "Epoch 350 | Loss: 5.0523663\n",
      "Epoch 400 | Loss: 4.6667256\n",
      "Epoch 450 | Loss: 4.3580856\n",
      "Epoch 500 | Loss: 4.0857043\n"
     ]
    }
   ],
   "source": [
    "# Training\n",
    "ls = {}\n",
    "print('Training the model...')\n",
    "for i in range(1, (epoch + 1)):\n",
    "    sess.run(optimizer, feed_dict={X_data: X_train, y_target: y_train})\n",
    "    if i % interval == 0:\n",
    "        l = sess.run(loss, feed_dict={X_data: X_train, y_target: y_train})\n",
    "        print('Epoch', i, '|', 'Loss:', l)\n",
    "        ls[i] = l\n",
    "        "
   ]
  },
  {
   "cell_type": "code",
   "execution_count": 18,
   "metadata": {},
   "outputs": [
    {
     "data": {
      "image/png": "[encoded data removed]",
      "text/plain": [
       "<Figure size 432x288 with 1 Axes>"
      ]
     },
     "metadata": {},
     "output_type": "display_data"
    }
   ],
   "source": [
    "import matplotlib.pyplot as plt\n",
    "iterations = list(ls.keys())\n",
    "costs = list(ls.values())\n",
    "plt.plot(iterations,costs)  \n",
    "plt.ylabel('cost')\n",
    "plt.xlabel('iterations (per fifties)')\n",
    "plt.title(\"Learning rate = \" + str(.001)) \n",
    "plt.show() "
   ]
  },
  {
   "cell_type": "code",
   "execution_count": 17,
   "metadata": {},
   "outputs": [
    {
     "name": "stdout",
     "output_type": "stream",
     "text": [
      "Actual: [0. 0. 1.] Predicted: [[0. 0. 1.]]\n",
      "Actual: [1. 0. 0.] Predicted: [[1. 0. 0.]]\n",
      "Actual: [0. 0. 1.] Predicted: [[0. 0. 1.]]\n",
      "Actual: [1. 0. 0.] Predicted: [[1. 0. 0.]]\n",
      "Actual: [1. 0. 0.] Predicted: [[1. 0. 0.]]\n",
      "Actual: [0. 0. 1.] Predicted: [[0. 0. 1.]]\n",
      "Actual: [0. 0. 1.] Predicted: [[0. 0. 1.]]\n",
      "Actual: [0. 1. 0.] Predicted: [[0. 1. 0.]]\n",
      "Actual: [1. 0. 0.] Predicted: [[1. 0. 0.]]\n",
      "Actual: [1. 0. 0.] Predicted: [[1. 0. 0.]]\n"
     ]
    }
   ],
   "source": [
    "# Prediction\n",
    "for i in range(len(X_test)):\n",
    "    print('Actual:', y_test[i], 'Predicted:', np.rint(sess.run(final_output, feed_dict={X_data: [X_test[i]]})))\n",
    "    "
   ]
  },
  {
   "cell_type": "code",
   "execution_count": null,
   "metadata": {},
   "outputs": [],
   "source": []
  }
 ],
 "metadata": {
  "kernelspec": {
   "display_name": "Python 3",
   "language": "python",
   "name": "python3"
  },
  "language_info": {
   "codemirror_mode": {
    "name": "ipython",
    "version": 3
   },
   "file_extension": ".py",
   "mimetype": "text/x-python",
   "name": "python",
   "nbconvert_exporter": "python",
   "pygments_lexer": "ipython3",
   "version": "3.6.6"
  }
 },
 "nbformat": 4,
 "nbformat_minor": 2
}
